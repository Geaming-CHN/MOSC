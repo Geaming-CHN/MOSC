{
 "cells": [
  {
   "cell_type": "code",
   "execution_count": 4,
   "id": "f1f70ed4",
   "metadata": {},
   "outputs": [
    {
     "name": "stdout",
     "output_type": "stream",
     "text": [
      "['False', 'None', 'True', 'and', 'as', 'assert', 'async', 'await', 'break', 'class', 'continue', 'def', 'del', 'elif', 'else', 'except', 'finally', 'for', 'from', 'global', 'if', 'import', 'in', 'is', 'lambda', 'nonlocal', 'not', 'or', 'pass', 'raise', 'return', 'try', 'while', 'with', 'yield']\n"
     ]
    }
   ],
   "source": [
    "import keyword\n",
    "print(keyword.kwlist)"
   ]
  },
  {
   "cell_type": "code",
   "execution_count": 11,
   "id": "96d3f455",
   "metadata": {},
   "outputs": [
    {
     "name": "stdout",
     "output_type": "stream",
     "text": [
      "1145 \t <class 'int'>\n",
      "3.14 \t <class 'float'>\n",
      "python \t <class 'str'>\n",
      "True \t <class 'bool'>\n"
     ]
    }
   ],
   "source": [
    "#int\n",
    "i = 1145\n",
    "print(i,'\\t',type(i))\n",
    "#float\n",
    "f = 3.14\n",
    "print(f,'\\t',type(f))\n",
    "#str\n",
    "s = 'python'\n",
    "print(s,'\\t',type(s))\n",
    "#bool\n",
    "b = 3>2\n",
    "print(b,'\\t',type(b))"
   ]
  },
  {
   "cell_type": "code",
   "execution_count": 19,
   "id": "09341a6d",
   "metadata": {},
   "outputs": [
    {
     "name": "stdout",
     "output_type": "stream",
     "text": [
      "t\\nst\n"
     ]
    }
   ],
   "source": [
    "#转义字符\n",
    "print('t\\\\nst')    #t\\nst"
   ]
  },
  {
   "cell_type": "code",
   "execution_count": 23,
   "id": "1ca5f21e",
   "metadata": {},
   "outputs": [
    {
     "name": "stdout",
     "output_type": "stream",
     "text": [
      "3.0 <class 'float'>\n",
      "3.0 <class 'str'>\n",
      "3.0 <class 'float'>\n"
     ]
    }
   ],
   "source": [
    "#类型转换\n",
    "n = 3.0\n",
    "print(n,type(n))\n",
    "str_n = str(n)\n",
    "print(str_n,type(str_n))\n",
    "f_n = float(n)\n",
    "print(f_n,type(f_n))"
   ]
  },
  {
   "cell_type": "code",
   "execution_count": 24,
   "id": "229626c0",
   "metadata": {},
   "outputs": [
    {
     "name": "stdout",
     "output_type": "stream",
     "text": [
      "MOSC\n",
      "a>200\n"
     ]
    }
   ],
   "source": [
    "#缩进\n",
    "a = 300\n",
    "if(a>200):\n",
    "    print(\"MOSC\")\n",
    "    print(\"a>200\")"
   ]
  },
  {
   "cell_type": "code",
   "execution_count": 32,
   "id": "e7baee1d",
   "metadata": {},
   "outputs": [
    {
     "name": "stdout",
     "output_type": "stream",
     "text": [
      "8\n",
      "1\n",
      "0\n",
      "MOSClny\n"
     ]
    }
   ],
   "source": [
    "# **\t\t\t求幂\n",
    "# //、%\t\t整除、求模\n",
    "# >、<、>=、<=、==、!=\n",
    "# and、or、not\t或与非 && || \n",
    "print(2**3)\n",
    "print(3//2)\n",
    "print(4%2)\n",
    "a = 100\n",
    "if(a>10 or a<9):\n",
    "    print(\"MOSClny\")"
   ]
  },
  {
   "cell_type": "code",
   "execution_count": 36,
   "id": "82aa18be",
   "metadata": {},
   "outputs": [
    {
     "name": "stdout",
     "output_type": "stream",
     "text": [
      "Year is 2021.13\n"
     ]
    }
   ],
   "source": [
    "#占位符\n",
    "\n",
    "n = 2021.12745\n",
    "name = \"%s is %.2f\"%(\"Year\",n)\n",
    "print(name)"
   ]
  },
  {
   "cell_type": "code",
   "execution_count": 40,
   "id": "6a0a183a",
   "metadata": {},
   "outputs": [
    {
     "name": "stdout",
     "output_type": "stream",
     "text": [
      "<class 'list'>\n",
      "5\n",
      "[1, 2, 3, 4, 5]\n"
     ]
    }
   ],
   "source": [
    "#列表\n",
    "l = [1,2,3,4,5]\n",
    "print(type(l))\n",
    "print(len(l))\n",
    "print(l)"
   ]
  },
  {
   "cell_type": "code",
   "execution_count": 45,
   "id": "e8efacf2",
   "metadata": {},
   "outputs": [
    {
     "name": "stdout",
     "output_type": "stream",
     "text": [
      "lny\n",
      "100\n",
      "100\n",
      "100\n",
      "True\n"
     ]
    }
   ],
   "source": [
    "information = [\"lny\",100,100,100,True]\n",
    "for x in information:\n",
    "    print(x)"
   ]
  },
  {
   "cell_type": "code",
   "execution_count": 46,
   "id": "c2011ed4",
   "metadata": {},
   "outputs": [
    {
     "name": "stdout",
     "output_type": "stream",
     "text": [
      "['lny', 100, 100, 100, True, 'ybb']\n"
     ]
    }
   ],
   "source": [
    "information.append(\"ybb\")\n",
    "print(information)"
   ]
  },
  {
   "cell_type": "code",
   "execution_count": 55,
   "id": "e9e595d0",
   "metadata": {},
   "outputs": [
    {
     "name": "stdout",
     "output_type": "stream",
     "text": [
      "['MOSC', 'lny', 100, 100, 100, True]\n"
     ]
    }
   ],
   "source": [
    "information.insert(0,\"MOSC\")\n",
    "print(information)"
   ]
  },
  {
   "cell_type": "code",
   "execution_count": 56,
   "id": "ad386adb",
   "metadata": {},
   "outputs": [],
   "source": [
    "information.insert(1,\"CEO\")"
   ]
  },
  {
   "cell_type": "code",
   "execution_count": 49,
   "id": "5ee3d9fc",
   "metadata": {},
   "outputs": [
    {
     "name": "stdout",
     "output_type": "stream",
     "text": [
      "['MOSC', 'CEO', 'lny', 100, 100, 100, True, 'ybb']\n"
     ]
    }
   ],
   "source": [
    "print(information)"
   ]
  },
  {
   "cell_type": "code",
   "execution_count": 50,
   "id": "4a4869fc",
   "metadata": {},
   "outputs": [
    {
     "name": "stdout",
     "output_type": "stream",
     "text": [
      "MOSC <class 'str'>\n",
      "CEO <class 'str'>\n",
      "lny <class 'str'>\n",
      "100 <class 'int'>\n",
      "100 <class 'int'>\n",
      "100 <class 'int'>\n",
      "True <class 'bool'>\n",
      "ybb <class 'str'>\n"
     ]
    }
   ],
   "source": [
    "for x in information:\n",
    "    print(x,type(x))"
   ]
  },
  {
   "cell_type": "code",
   "execution_count": 51,
   "id": "e12b696a",
   "metadata": {},
   "outputs": [],
   "source": [
    "#del/pop/remove\n",
    "del information[1]"
   ]
  },
  {
   "cell_type": "code",
   "execution_count": 52,
   "id": "34dd6ec2",
   "metadata": {},
   "outputs": [
    {
     "name": "stdout",
     "output_type": "stream",
     "text": [
      "MOSC <class 'str'>\n",
      "lny <class 'str'>\n",
      "100 <class 'int'>\n",
      "100 <class 'int'>\n",
      "100 <class 'int'>\n",
      "True <class 'bool'>\n",
      "ybb <class 'str'>\n"
     ]
    }
   ],
   "source": [
    "for x in information:\n",
    "    print(x,type(x))"
   ]
  },
  {
   "cell_type": "code",
   "execution_count": 59,
   "id": "2262ce28",
   "metadata": {},
   "outputs": [
    {
     "name": "stdout",
     "output_type": "stream",
     "text": [
      "['CEO', 'lny', 100, 100, 100, True]\n"
     ]
    }
   ],
   "source": [
    "# information.pop(0)\n",
    "# print(information.pop(0))\n",
    "print(information)\n"
   ]
  },
  {
   "cell_type": "code",
   "execution_count": 62,
   "id": "e8d9c0f7",
   "metadata": {},
   "outputs": [
    {
     "name": "stdout",
     "output_type": "stream",
     "text": [
      "['CEO', 'lny', 100, True]\n"
     ]
    }
   ],
   "source": [
    "#remove按值移除\n",
    "information.remove(100)\n",
    "print(information)"
   ]
  },
  {
   "cell_type": "code",
   "execution_count": 71,
   "id": "cc28dfe0",
   "metadata": {},
   "outputs": [
    {
     "name": "stdout",
     "output_type": "stream",
     "text": [
      "['lny', '100', '100', '10', [122, 1112, 2]]\n",
      "lny <class 'str'>\n",
      "100 <class 'str'>\n",
      "100 <class 'str'>\n",
      "10 <class 'str'>\n",
      "[122, 1112, 2] <class 'list'>\n"
     ]
    }
   ],
   "source": [
    "information = [\"lny\",\"100\",\"100\",\"10\",[122,1112,2]]\n",
    "print(information)\n",
    "for x in information:\n",
    "    print(x,type(x))"
   ]
  },
  {
   "cell_type": "code",
   "execution_count": 72,
   "id": "f8e286f5",
   "metadata": {},
   "outputs": [
    {
     "name": "stdout",
     "output_type": "stream",
     "text": [
      "[0, 1, 2, 3, 4, 5, 6, 7, 8, 9]\n",
      "[3, 4, 5, 6, 7, 8]\n",
      "[3, 4, 5, 6, 7, 8, 9]\n",
      "[0, 1, 2, 3, 4, 5, 6, 7, 8]\n",
      "[4, 5, 6, 7, 8]\n",
      "[1, 3, 5, 7]\n",
      "[9, 7, 5, 3]\n"
     ]
    }
   ],
   "source": [
    "numbers = [x for x in range(10)] //numbers[x:y:z]\n",
    "print(numbers)\n",
    "print(numbers[3:9])\n",
    "print(numbers[3:])\n",
    "print(numbers[:9])\n",
    "print(numbers[-6:-1])//-6+10 = 4 -1+10=9 =>print(numbers[4:9])\n",
    "print(numbers[1:9:2])\n",
    "print(numbers[-1:1:-2])"
   ]
  },
  {
   "cell_type": "code",
   "execution_count": 73,
   "id": "2a3d08e2",
   "metadata": {},
   "outputs": [
    {
     "name": "stdout",
     "output_type": "stream",
     "text": [
      "{'java': 90, 'DS': 80, 'PE': 60}\n"
     ]
    }
   ],
   "source": [
    "#dict\n",
    "lny = [('java',90),('DS',80),(\"PE\",60)]\n",
    "lnyDict = dict(lny)\n",
    "print(lnyDict)"
   ]
  },
  {
   "cell_type": "code",
   "execution_count": 74,
   "id": "4086c208",
   "metadata": {},
   "outputs": [
    {
     "name": "stdout",
     "output_type": "stream",
     "text": [
      "3\n"
     ]
    }
   ],
   "source": [
    "print(len(lnyDict))"
   ]
  },
  {
   "cell_type": "code",
   "execution_count": 75,
   "id": "43ca09be",
   "metadata": {},
   "outputs": [
    {
     "name": "stdout",
     "output_type": "stream",
     "text": [
      "90\n"
     ]
    }
   ],
   "source": [
    "print(lnyDict['java'])"
   ]
  },
  {
   "cell_type": "code",
   "execution_count": 76,
   "id": "0399119c",
   "metadata": {},
   "outputs": [
    {
     "name": "stdout",
     "output_type": "stream",
     "text": [
      "1000\n"
     ]
    }
   ],
   "source": [
    "lnyDict['java'] = 1000\n",
    "print(lnyDict['java'])"
   ]
  },
  {
   "cell_type": "code",
   "execution_count": 77,
   "id": "7619b87d",
   "metadata": {},
   "outputs": [
    {
     "name": "stdout",
     "output_type": "stream",
     "text": [
      "{'java': 1000, 'DS': 80, 'PE': 60}\n"
     ]
    }
   ],
   "source": [
    "print(lnyDict)"
   ]
  },
  {
   "cell_type": "code",
   "execution_count": 78,
   "id": "1c3ae69b",
   "metadata": {},
   "outputs": [
    {
     "name": "stdout",
     "output_type": "stream",
     "text": [
      "{'java': 1000, 'DS': 80, 'PE': 60, 'Eng': 10}\n"
     ]
    }
   ],
   "source": [
    "lnyDict['Eng'] = 10\n",
    "print(lnyDict)"
   ]
  },
  {
   "cell_type": "code",
   "execution_count": 79,
   "id": "cb483509",
   "metadata": {},
   "outputs": [
    {
     "name": "stdout",
     "output_type": "stream",
     "text": [
      "{'java': 1000, 'DS': 80, 'PE': 60}\n"
     ]
    }
   ],
   "source": [
    "del lnyDict['Eng']\n",
    "print(lnyDict)"
   ]
  },
  {
   "cell_type": "code",
   "execution_count": 88,
   "id": "6b6d0c5f",
   "metadata": {},
   "outputs": [
    {
     "name": "stdout",
     "output_type": "stream",
     "text": [
      "3.14\n",
      "3.14\n",
      "3.14\n",
      "3.14\n",
      "3.14\n",
      "3.14 5\n"
     ]
    }
   ],
   "source": [
    "#function\n",
    "def repeat(n,m):\n",
    "    for i in range(m):\n",
    "        print(n)\n",
    "    return n,m\n",
    "\n",
    "a,b = repeat(3.14,5) #a,b=n,m\n",
    "print(a,b)"
   ]
  },
  {
   "cell_type": "code",
   "execution_count": 91,
   "id": "0997741f",
   "metadata": {},
   "outputs": [
    {
     "name": "stdout",
     "output_type": "stream",
     "text": [
      "11\n"
     ]
    }
   ],
   "source": [
    "#eval\n",
    "s = eval(\"3+2+1+5\") # s = 3+2+1+5\n",
    "print(s)"
   ]
  },
  {
   "cell_type": "code",
   "execution_count": 94,
   "id": "4e3f7bcc",
   "metadata": {},
   "outputs": [
    {
     "name": "stdout",
     "output_type": "stream",
     "text": [
      "30\n"
     ]
    }
   ],
   "source": [
    "#lambda\n",
    "sum = lambda a,b:a+b\n",
    "print(sum(10,20))"
   ]
  },
  {
   "cell_type": "code",
   "execution_count": 95,
   "id": "79f14e33",
   "metadata": {},
   "outputs": [
    {
     "name": "stdout",
     "output_type": "stream",
     "text": [
      "Bot1\n",
      "Bot2\n",
      "Bot3\n"
     ]
    }
   ],
   "source": [
    "#for\n",
    "Bot = ['Bot1','Bot2','Bot3']\n",
    "for x in Bot:\n",
    "    print(x)"
   ]
  },
  {
   "cell_type": "code",
   "execution_count": 99,
   "id": "17524997",
   "metadata": {},
   "outputs": [
    {
     "name": "stdout",
     "output_type": "stream",
     "text": [
      "4\n",
      "6\n",
      "8\n"
     ]
    }
   ],
   "source": [
    "for x in range(10):#for(int i = 0; i<10;i++)\n",
    "    print(x)"
   ]
  },
  {
   "cell_type": "code",
   "execution_count": 102,
   "id": "05695a84",
   "metadata": {},
   "outputs": [
    {
     "name": "stdout",
     "output_type": "stream",
     "text": [
      "a==100\n"
     ]
    }
   ],
   "source": [
    "a = 100\n",
    "if(a>200):\n",
    "    print(\"a>200\")\n",
    "elif (a==100):         #else if\n",
    "    print(\"a==100\")\n",
    "else:\n",
    "    print(\"a<200\")"
   ]
  },
  {
   "cell_type": "code",
   "execution_count": 103,
   "id": "a96b187d",
   "metadata": {},
   "outputs": [],
   "source": [
    "import torch"
   ]
  },
  {
   "cell_type": "code",
   "execution_count": 105,
   "id": "9acfb2d7",
   "metadata": {},
   "outputs": [
    {
     "data": {
      "text/plain": [
       "tensor([ 0,  1,  2,  3,  4,  5,  6,  7,  8,  9, 10, 11])"
      ]
     },
     "execution_count": 105,
     "metadata": {},
     "output_type": "execute_result"
    }
   ],
   "source": [
    "#tensor张量\n",
    "x = torch.arange(12)\n",
    "x"
   ]
  },
  {
   "cell_type": "code",
   "execution_count": 106,
   "id": "074b199c",
   "metadata": {},
   "outputs": [
    {
     "data": {
      "text/plain": [
       "torch.Size([12])"
      ]
     },
     "execution_count": 106,
     "metadata": {},
     "output_type": "execute_result"
    }
   ],
   "source": [
    "x.shape"
   ]
  },
  {
   "cell_type": "code",
   "execution_count": 109,
   "id": "7b6c8a55",
   "metadata": {},
   "outputs": [
    {
     "data": {
      "text/plain": [
       "torch.Size([3, 4])"
      ]
     },
     "execution_count": 109,
     "metadata": {},
     "output_type": "execute_result"
    }
   ],
   "source": [
    "x = x.reshape(3,4)\n",
    "x.shape"
   ]
  },
  {
   "cell_type": "code",
   "execution_count": 110,
   "id": "de5c7a60",
   "metadata": {},
   "outputs": [
    {
     "data": {
      "text/plain": [
       "12"
      ]
     },
     "execution_count": 110,
     "metadata": {},
     "output_type": "execute_result"
    }
   ],
   "source": [
    "x.numel()"
   ]
  },
  {
   "cell_type": "code",
   "execution_count": 111,
   "id": "109381e5",
   "metadata": {},
   "outputs": [
    {
     "data": {
      "text/plain": [
       "tensor([[[0., 0., 0., 0.],\n",
       "         [0., 0., 0., 0.],\n",
       "         [0., 0., 0., 0.]],\n",
       "\n",
       "        [[0., 0., 0., 0.],\n",
       "         [0., 0., 0., 0.],\n",
       "         [0., 0., 0., 0.]]])"
      ]
     },
     "execution_count": 111,
     "metadata": {},
     "output_type": "execute_result"
    }
   ],
   "source": [
    "torch.zeros(2,3,4)"
   ]
  },
  {
   "cell_type": "code",
   "execution_count": 112,
   "id": "84f0fe5d",
   "metadata": {},
   "outputs": [
    {
     "data": {
      "text/plain": [
       "tensor([[[1., 1., 1., 1.],\n",
       "         [1., 1., 1., 1.],\n",
       "         [1., 1., 1., 1.]],\n",
       "\n",
       "        [[1., 1., 1., 1.],\n",
       "         [1., 1., 1., 1.],\n",
       "         [1., 1., 1., 1.]]])"
      ]
     },
     "execution_count": 112,
     "metadata": {},
     "output_type": "execute_result"
    }
   ],
   "source": [
    "torch.ones(2,3,4)"
   ]
  },
  {
   "cell_type": "code",
   "execution_count": 116,
   "id": "9d756eb7",
   "metadata": {},
   "outputs": [
    {
     "data": {
      "text/plain": [
       "tensor([[0.5099, 0.2150, 0.1256, 0.9562],\n",
       "        [0.6222, 0.7884, 0.5195, 0.9951],\n",
       "        [0.9690, 0.2396, 0.9229, 0.2433]])"
      ]
     },
     "execution_count": 116,
     "metadata": {},
     "output_type": "execute_result"
    }
   ],
   "source": [
    "torch.rand(3,4)      #rand"
   ]
  },
  {
   "cell_type": "code",
   "execution_count": 117,
   "id": "948b566a",
   "metadata": {},
   "outputs": [
    {
     "data": {
      "text/plain": [
       "tensor([2.2823, 1.7740, 3.5007, 3.1790, 4.8978, 5.5144, 7.5778, 7.8335, 8.8698,\n",
       "        9.8480])"
      ]
     },
     "execution_count": 117,
     "metadata": {},
     "output_type": "execute_result"
    }
   ],
   "source": [
    "torch.normal(torch.arange(1.0,11),torch.arange(1,0,-0.1))"
   ]
  },
  {
   "cell_type": "code",
   "execution_count": 118,
   "id": "296ac5f5",
   "metadata": {},
   "outputs": [
    {
     "data": {
      "text/plain": [
       "tensor([[1, 2, 3],\n",
       "        [4, 5, 6]])"
      ]
     },
     "execution_count": 118,
     "metadata": {},
     "output_type": "execute_result"
    }
   ],
   "source": [
    "torch.tensor([[1,2,3],[4,5,6]])"
   ]
  },
  {
   "cell_type": "code",
   "execution_count": 120,
   "id": "bdab1ea1",
   "metadata": {},
   "outputs": [
    {
     "data": {
      "text/plain": [
       "(tensor([ 3.,  4.,  6., 10.]),\n",
       " tensor([-1.,  0.,  2.,  6.]),\n",
       " tensor([ 2.,  4.,  8., 16.]),\n",
       " tensor([ 1.,  4., 16., 64.]))"
      ]
     },
     "execution_count": 120,
     "metadata": {},
     "output_type": "execute_result"
    }
   ],
   "source": [
    "x = torch.tensor([1.0,2,4,8])\n",
    "y = torch.tensor([2,2,2,2])\n",
    "x+y,x-y,x*y,x**y"
   ]
  },
  {
   "cell_type": "code",
   "execution_count": null,
   "id": "24d53c0a",
   "metadata": {},
   "outputs": [],
   "source": [
    "#连结concatenate\n",
    "x = torch.tensor([1.0,2,4,8])\n",
    "y = torch.tensor([2,2,2,2])\n",
    "print(torch.cat((x,y),dim=0))"
   ]
  }
 ],
 "metadata": {
  "kernelspec": {
   "display_name": "Python [conda env:d2l] *",
   "language": "python",
   "name": "conda-env-d2l-py"
  },
  "language_info": {
   "codemirror_mode": {
    "name": "ipython",
    "version": 3
   },
   "file_extension": ".py",
   "mimetype": "text/x-python",
   "name": "python",
   "nbconvert_exporter": "python",
   "pygments_lexer": "ipython3",
   "version": "3.8.12"
  }
 },
 "nbformat": 4,
 "nbformat_minor": 5
}
